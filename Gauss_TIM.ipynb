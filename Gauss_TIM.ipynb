{
  "nbformat": 4,
  "nbformat_minor": 0,
  "metadata": {
    "colab": {
      "provenance": []
    },
    "kernelspec": {
      "name": "python3",
      "display_name": "Python 3"
    },
    "language_info": {
      "name": "python"
    }
  },
  "cells": [
    {
      "cell_type": "code",
      "execution_count": 1,
      "metadata": {
        "colab": {
          "base_uri": "https://localhost:8080/"
        },
        "id": "4P7Dzqq1ZWaG",
        "outputId": "144c545f-a5f0-4d60-deba-8269a92752a5"
      },
      "outputs": [
        {
          "name": "stdout",
          "output_type": "stream",
          "text": [
            "Enter the size of the matrix: 100\n"
          ]
        }
      ],
      "source": [
        "import numpy as np\n",
        "  \n",
        "def is_pos_def(x):\n",
        "    return np.all(np.linalg.eigvals(x) > 0)\n",
        "\n",
        "n = int(input(\"Enter the size of the matrix: \"))"
      ]
    },
    {
      "cell_type": "code",
      "source": [
        "is_good_enough = False\n",
        "while not is_good_enough  :\n",
        "    x = np.arange(1,n)\n",
        "    V = []\n",
        "    for i in range(n):\n",
        "        y = np.random.randn(n)*2\n",
        "        V.append(y)\n",
        "    A = np.cov(V)\n",
        "    is_good_enough = is_pos_def(A)\n",
        "A = A\n",
        "B=np.ones((n,1))"
      ],
      "metadata": {
        "id": "W-GhIdrpZsJo"
      },
      "execution_count": 2,
      "outputs": []
    },
    {
      "cell_type": "code",
      "source": [
        "%%time\n",
        "x = np.linalg.solve(A, B)\n",
        "print(x)"
      ],
      "metadata": {
        "colab": {
          "base_uri": "https://localhost:8080/"
        },
        "id": "-rFkDqXfZuv5",
        "outputId": "a6c4fdd9-ec53-48f5-b08c-da1ae0ee2b4c"
      },
      "execution_count": 3,
      "outputs": [
        {
          "output_type": "stream",
          "name": "stdout",
          "text": [
            "[[-1.12609651e+15]\n",
            " [-1.23242473e+14]\n",
            " [ 1.04953734e+15]\n",
            " [-7.15079773e+13]\n",
            " [-7.64981375e+14]\n",
            " [-1.68536340e+14]\n",
            " [-3.89538620e+14]\n",
            " [ 6.74869644e+14]\n",
            " [-2.14276098e+14]\n",
            " [ 7.15029641e+14]\n",
            " [ 3.15214844e+14]\n",
            " [ 2.84031267e+13]\n",
            " [ 1.07336502e+15]\n",
            " [-1.44426827e+15]\n",
            " [-3.81969867e+14]\n",
            " [-1.93899889e+14]\n",
            " [ 8.99739059e+13]\n",
            " [ 7.95740181e+14]\n",
            " [ 2.02055965e+14]\n",
            " [ 7.95506801e+14]\n",
            " [-1.69550508e+14]\n",
            " [ 1.96532787e+14]\n",
            " [ 4.58533136e+14]\n",
            " [ 1.53557145e+14]\n",
            " [ 6.38658137e+13]\n",
            " [-1.94775802e+13]\n",
            " [ 1.07584597e+14]\n",
            " [-8.55397100e+14]\n",
            " [ 2.64220014e+14]\n",
            " [-3.14282393e+14]\n",
            " [ 7.89926320e+14]\n",
            " [-1.91874689e+14]\n",
            " [ 8.74351440e+14]\n",
            " [ 3.97254000e+14]\n",
            " [ 1.41682959e+15]\n",
            " [ 7.42435098e+14]\n",
            " [ 1.13045668e+14]\n",
            " [-2.61299037e+14]\n",
            " [ 1.61667072e+13]\n",
            " [-1.85602490e+14]\n",
            " [ 4.85740695e+14]\n",
            " [ 6.83194365e+14]\n",
            " [ 9.58247864e+14]\n",
            " [-6.89452005e+14]\n",
            " [ 3.45734746e+14]\n",
            " [-6.93511181e+14]\n",
            " [ 6.72138725e+14]\n",
            " [ 1.69103877e+14]\n",
            " [-5.60915033e+14]\n",
            " [-8.98567506e+14]\n",
            " [ 1.83363136e+14]\n",
            " [-6.83640176e+14]\n",
            " [ 4.52670282e+14]\n",
            " [-3.32557818e+14]\n",
            " [-6.16519676e+14]\n",
            " [-8.29253387e+14]\n",
            " [ 6.14683371e+14]\n",
            " [ 7.92746352e+13]\n",
            " [-8.18235342e+14]\n",
            " [ 4.67543988e+14]\n",
            " [-5.61288299e+13]\n",
            " [ 1.06136399e+15]\n",
            " [-7.04813972e+14]\n",
            " [ 5.73609714e+14]\n",
            " [ 7.20541763e+14]\n",
            " [ 2.23074210e+14]\n",
            " [-1.15667279e+15]\n",
            " [ 1.10735349e+14]\n",
            " [-2.50156598e+14]\n",
            " [-5.72221021e+14]\n",
            " [ 1.48374906e+14]\n",
            " [-6.94393665e+13]\n",
            " [-6.53614540e+13]\n",
            " [-6.51321548e+13]\n",
            " [-1.40996090e+15]\n",
            " [-3.01667232e+14]\n",
            " [ 1.56034338e+14]\n",
            " [ 5.37130766e+14]\n",
            " [-3.18344666e+12]\n",
            " [-6.09271907e+14]\n",
            " [ 1.87844224e+14]\n",
            " [ 2.74582959e+13]\n",
            " [ 5.15060960e+14]\n",
            " [-3.14728303e+14]\n",
            " [ 3.15897524e+13]\n",
            " [ 2.28133416e+13]\n",
            " [-2.35369776e+14]\n",
            " [ 6.76760343e+14]\n",
            " [-3.21603090e+14]\n",
            " [-5.02729545e+14]\n",
            " [ 9.64332875e+13]\n",
            " [ 3.59566497e+14]\n",
            " [-7.73710549e+14]\n",
            " [-4.54746144e+14]\n",
            " [ 5.03894869e+14]\n",
            " [-7.04113512e+14]\n",
            " [-3.84459428e+14]\n",
            " [ 2.54844680e+14]\n",
            " [ 2.03481227e+14]\n",
            " [ 4.30202750e+14]]\n",
            "CPU times: user 3.69 ms, sys: 3.94 ms, total: 7.64 ms\n",
            "Wall time: 6.66 ms\n"
          ]
        }
      ]
    },
    {
      "cell_type": "code",
      "source": [
        "import numpy as np\n",
        "  \n",
        "def is_pos_def(x):\n",
        "    return np.all(np.linalg.eigvals(x) > 0)\n",
        "\n",
        "n = int(input(\"Enter the size of the matrix: \"))"
      ],
      "metadata": {
        "colab": {
          "base_uri": "https://localhost:8080/"
        },
        "id": "CDLdIekxZ_6z",
        "outputId": "f0130baf-5f97-41ad-e275-7f81b02ddcd0"
      },
      "execution_count": 4,
      "outputs": [
        {
          "name": "stdout",
          "output_type": "stream",
          "text": [
            "Enter the size of the matrix: 100\n"
          ]
        }
      ]
    },
    {
      "cell_type": "code",
      "source": [
        "%%time\n",
        "\n",
        "\n",
        "x = np.arange(1,n)\n",
        "V = []\n",
        "for i in range(n):\n",
        "        y = np.random.randn(n)*2\n",
        "        V.append(y)\n",
        "A = np.cov(V)\n",
        "is_good_enough = is_pos_def(A)\n",
        "\n",
        "print ( is_pos_def(A))\n",
        "print(A)\n",
        "a = A"
      ],
      "metadata": {
        "colab": {
          "base_uri": "https://localhost:8080/"
        },
        "id": "IVg6Z-YRaJVk",
        "outputId": "11cb7b69-5005-4ef7-8fae-0ba50d66274f"
      },
      "execution_count": 5,
      "outputs": [
        {
          "output_type": "stream",
          "name": "stdout",
          "text": [
            "False\n",
            "[[ 3.49060667 -0.05073024 -0.06241243 ... -0.34448356 -0.4937818\n",
            "  -0.50200923]\n",
            " [-0.05073024  4.44063727 -0.22877349 ...  0.37563746  0.79024295\n",
            "  -0.33742552]\n",
            " [-0.06241243 -0.22877349  4.13242346 ...  0.20771342  0.29451416\n",
            "  -0.20755985]\n",
            " ...\n",
            " [-0.34448356  0.37563746  0.20771342 ...  3.03865261 -0.23184698\n",
            "   0.7136781 ]\n",
            " [-0.4937818   0.79024295  0.29451416 ... -0.23184698  3.66226698\n",
            "  -0.16822069]\n",
            " [-0.50200923 -0.33742552 -0.20755985 ...  0.7136781  -0.16822069\n",
            "   4.12917512]]\n",
            "CPU times: user 14.7 ms, sys: 15.8 ms, total: 30.5 ms\n",
            "Wall time: 26.5 ms\n"
          ]
        }
      ]
    }
  ]
}